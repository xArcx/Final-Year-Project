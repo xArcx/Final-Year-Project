{
  "nbformat": 4,
  "nbformat_minor": 0,
  "metadata": {
    "colab": {
      "name": "Untitled0.ipynb",
      "provenance": [],
      "collapsed_sections": [],
      "machine_shape": "hm",
      "authorship_tag": "ABX9TyNu+jIwaRsG8ubiHf3xvU4W",
      "include_colab_link": true
    },
    "kernelspec": {
      "name": "python3",
      "display_name": "Python 3"
    },
    "language_info": {
      "name": "python"
    },
    "accelerator": "GPU"
  },
  "cells": [
    {
      "cell_type": "markdown",
      "metadata": {
        "id": "view-in-github",
        "colab_type": "text"
      },
      "source": [
        "<a href=\"https://colab.research.google.com/github/xArcx/Final-Year-Project/blob/main/FacialExpressionRecognitionWithTransferLearning.ipynb\" target=\"_parent\"><img src=\"https://colab.research.google.com/assets/colab-badge.svg\" alt=\"Open In Colab\"/></a>"
      ]
    },
    {
      "cell_type": "code",
      "execution_count": null,
      "metadata": {
        "colab": {
          "base_uri": "https://localhost:8080/"
        },
        "id": "Rson9FnEp_Xr",
        "outputId": "973e474c-1f34-4025-de93-9fc6d158a055"
      },
      "outputs": [
        {
          "output_type": "stream",
          "name": "stdout",
          "text": [
            "Mounted at /content/drive\n"
          ]
        }
      ],
      "source": [
        "from google.colab import drive\n",
        "drive.mount('/content/drive')"
      ]
    },
    {
      "cell_type": "code",
      "source": [
        "\n",
        "# paths\n",
        "train_dir = '/content/drive/MyDrive/Final Year Proj 21-22/Train/Binary'\n",
        "val_dir = '/content/drive/MyDrive/Final Year Proj 21-22/Validation'\n",
        "test_dir = '/content/drive/MyDrive/Final Year Proj 21-22/Test/Binary'\n",
        "MODEL_DIR = '/content/drive/MyDrive/Final Year Proj 21-22/vit-mnist'"
      ],
      "metadata": {
        "id": "SXDfPy1qXvqa"
      },
      "execution_count": null,
      "outputs": []
    },
    {
      "cell_type": "code",
      "source": [
        "import tensorflow as tf\n",
        "from tensorflow import keras\n",
        "from tensorflow.keras.layers import Input, Conv2D, MaxPooling2D, Dropout, Flatten, Dense, BatchNormalization, Concatenate\n",
        "from tensorflow.keras.regularizers import l2\n",
        "from keras.preprocessing.image import ImageDataGenerator\n",
        "from keras import callbacks\n",
        "import numpy as np\n",
        "import matplotlib.pyplot as plt\n",
        "import pandas as pd\n",
        "import seaborn as sns\n",
        "\n",
        "#(train_images, train_labels), (test_images, test_labels) = keras.datasets.mnist.load_data()\n",
        "#train_images = train_images.reshape(train_images.shape[0], 28, 28, 1)\n",
        "#test_images = test_images.reshape(test_images.shape[0], 28, 28, 1)\n",
        "\n",
        "def preprocess_images(imgs): # should work for both a single image and multiple images\n",
        "    sample_img = imgs if len(imgs.shape) == 2 else imgs[0]\n",
        "    assert sample_img.shape in [(28, 28, 1), (28, 28)], sample_img.shape # make sure images are 28x28 and single-channel (grayscale)\n",
        "    return imgs / 255.0\n",
        "\n"
      ],
      "metadata": {
        "id": "au6W60fKXvtZ"
      },
      "execution_count": null,
      "outputs": []
    },
    {
      "cell_type": "code",
      "source": [
        "NUM_EPOCHS = 50\n",
        "BATCH_SIZE = 64\n",
        "LEARN_RATE = 0.00001\n",
        "TEST_RATIO = 0.2\n",
        "SEED = 60\n",
        "NUM_CLASSES = 2\n",
        "IMAGE_SIZE=224\n",
        "\n",
        "\n",
        "\n",
        "# augment images using image data generator\n",
        "data_aug = ImageDataGenerator(rescale=1.0/255.0,\n",
        "                                  rotation_range=40,\n",
        "                                  width_shift_range=0.2,\n",
        "                                  height_shift_range=0.2,\n",
        "                                  zoom_range=0.2,\n",
        "                                  horizontal_flip=True,\n",
        "                                  fill_mode='nearest',\n",
        "                         shear_range=0.15)"
      ],
      "metadata": {
        "id": "QH8wIH3OXvw7"
      },
      "execution_count": null,
      "outputs": []
    },
    {
      "cell_type": "code",
      "source": [
        "model = keras.Sequential()\n",
        "\n",
        "model.add(Conv2D(32, kernel_size=(4, 4), activation='relu', input_shape=(224, 224, 1))) \n",
        "model.add(Conv2D(32, kernel_size=(4, 4), activation='relu'))\n",
        "model.add(Conv2D(64, (4, 4), activation='relu'))\n",
        "model.add(BatchNormalization())\n",
        "model.add(MaxPooling2D(pool_size=(2, 2)))\n",
        "model.add(Dropout(0.2))\n",
        "\n",
        "model.add(Conv2D(64, (4, 4), activation='relu'))\n",
        "model.add(Conv2D(64, (4, 4), activation='relu'))\n",
        "model.add(Conv2D(128, (4, 4), activation='relu'))\n",
        "model.add(BatchNormalization())\n",
        "model.add(MaxPooling2D(pool_size=(2, 2)))\n",
        "model.add(Dropout(0.2))\n",
        "\n",
        "model.add(Flatten())\n",
        "\n",
        "model.add(Dense(256, activation='relu'))\n",
        "\n",
        "model.add(Dense(128, activation='relu'))\n",
        "\n",
        "model.add(Dropout(0.5))\n",
        "\n",
        "model.add(Dense(2, activation='softmax'))\n",
        "\n",
        "model.summary()"
      ],
      "metadata": {
        "colab": {
          "base_uri": "https://localhost:8080/"
        },
        "id": "7ZSE_UsCXv0D",
        "outputId": "30c82200-de1d-45cf-f034-4a45484d7e2e"
      },
      "execution_count": null,
      "outputs": [
        {
          "output_type": "stream",
          "name": "stdout",
          "text": [
            "Model: \"sequential_2\"\n",
            "_________________________________________________________________\n",
            " Layer (type)                Output Shape              Param #   \n",
            "=================================================================\n",
            " conv2d_8 (Conv2D)           (None, 221, 221, 32)      544       \n",
            "                                                                 \n",
            " conv2d_9 (Conv2D)           (None, 218, 218, 32)      16416     \n",
            "                                                                 \n",
            " conv2d_10 (Conv2D)          (None, 215, 215, 64)      32832     \n",
            "                                                                 \n",
            " batch_normalization_4 (Batc  (None, 215, 215, 64)     256       \n",
            " hNormalization)                                                 \n",
            "                                                                 \n",
            " max_pooling2d_4 (MaxPooling  (None, 107, 107, 64)     0         \n",
            " 2D)                                                             \n",
            "                                                                 \n",
            " dropout_6 (Dropout)         (None, 107, 107, 64)      0         \n",
            "                                                                 \n",
            " conv2d_11 (Conv2D)          (None, 104, 104, 64)      65600     \n",
            "                                                                 \n",
            " conv2d_12 (Conv2D)          (None, 101, 101, 64)      65600     \n",
            "                                                                 \n",
            " conv2d_13 (Conv2D)          (None, 98, 98, 128)       131200    \n",
            "                                                                 \n",
            " batch_normalization_5 (Batc  (None, 98, 98, 128)      512       \n",
            " hNormalization)                                                 \n",
            "                                                                 \n",
            " max_pooling2d_5 (MaxPooling  (None, 49, 49, 128)      0         \n",
            " 2D)                                                             \n",
            "                                                                 \n",
            " dropout_7 (Dropout)         (None, 49, 49, 128)       0         \n",
            "                                                                 \n",
            " flatten_2 (Flatten)         (None, 307328)            0         \n",
            "                                                                 \n",
            " dense_4 (Dense)             (None, 256)               78676224  \n",
            "                                                                 \n",
            " dense_5 (Dense)             (None, 128)               32896     \n",
            "                                                                 \n",
            " dropout_8 (Dropout)         (None, 128)               0         \n",
            "                                                                 \n",
            " dense_6 (Dense)             (None, 2)                 258       \n",
            "                                                                 \n",
            "=================================================================\n",
            "Total params: 79,022,338\n",
            "Trainable params: 79,021,954\n",
            "Non-trainable params: 384\n",
            "_________________________________________________________________\n"
          ]
        }
      ]
    },
    {
      "cell_type": "code",
      "source": [
        "model.compile(optimizer=tf.optimizers.Adam(), \n",
        "              loss='binary_crossentropy',\n",
        "              metrics=['accuracy'])\n",
        "\n",
        "\n",
        "\n",
        "\n",
        "filepath = \"modelCNN25thDec.h5\"\n",
        "#checkpoint = ModelCheckpoint(filepath, monitor='val_accuracy', verbose=1, \n",
        "#                            save_best_only=True, mode='max')\n",
        "\n",
        "#reduce_lr = ReduceLROnPlateau(monitor='val_accuracy', factor=0.5, patience=2, \n",
        "#                                   verbose=1, mode='max', min_lr=0.00001)\n",
        "                              \n",
        "                              \n",
        "#callbacks_list = [checkpoint, reduce_lr]\n",
        "\n",
        "\n",
        "history_main = model.fit(\n",
        "                    data_aug.flow_from_directory(test_dir,target_size=(224,224), batch_size=BATCH_SIZE, shuffle=True,\n",
        "                         color_mode='grayscale'),\n",
        "                    epochs = 20, \n",
        "                    validation_data=data_aug.flow_from_directory(val_dir,target_size=(224,224), batch_size=BATCH_SIZE, shuffle=True,\n",
        "                         color_mode='grayscale')#,callbacks=callbacks_list\n",
        "                    )\n"
      ],
      "metadata": {
        "colab": {
          "base_uri": "https://localhost:8080/"
        },
        "id": "mfmV8kjUXv3c",
        "outputId": "58e2c777-eac8-4186-ea67-0457e17e1fb7"
      },
      "execution_count": null,
      "outputs": [
        {
          "output_type": "stream",
          "name": "stdout",
          "text": [
            "Found 7067 images belonging to 2 classes.\n",
            "Found 246 images belonging to 2 classes.\n",
            "Epoch 1/20\n",
            "111/111 [==============================] - 44s 352ms/step - loss: 3.1400 - accuracy: 0.5197 - val_loss: 0.6985 - val_accuracy: 0.4472\n",
            "Epoch 2/20\n",
            "111/111 [==============================] - 36s 321ms/step - loss: 0.7055 - accuracy: 0.5473 - val_loss: 0.7078 - val_accuracy: 0.4756\n",
            "Epoch 3/20\n",
            "111/111 [==============================] - 36s 320ms/step - loss: 0.6933 - accuracy: 0.5418 - val_loss: 0.7061 - val_accuracy: 0.4472\n",
            "Epoch 4/20\n",
            "111/111 [==============================] - 36s 324ms/step - loss: 0.6920 - accuracy: 0.5434 - val_loss: 0.6987 - val_accuracy: 0.4472\n",
            "Epoch 5/20\n",
            "111/111 [==============================] - 36s 322ms/step - loss: 0.6877 - accuracy: 0.5444 - val_loss: 0.6982 - val_accuracy: 0.4472\n",
            "Epoch 6/20\n",
            "111/111 [==============================] - 36s 325ms/step - loss: 0.6879 - accuracy: 0.5431 - val_loss: 0.7042 - val_accuracy: 0.4472\n",
            "Epoch 7/20\n",
            "111/111 [==============================] - 36s 325ms/step - loss: 0.6895 - accuracy: 0.5414 - val_loss: 0.7004 - val_accuracy: 0.4472\n",
            "Epoch 8/20\n",
            "111/111 [==============================] - 36s 319ms/step - loss: 0.6884 - accuracy: 0.5434 - val_loss: 0.7016 - val_accuracy: 0.4472\n",
            "Epoch 9/20\n",
            "111/111 [==============================] - 36s 323ms/step - loss: 0.6899 - accuracy: 0.5427 - val_loss: 0.7036 - val_accuracy: 0.4472\n",
            "Epoch 10/20\n",
            "111/111 [==============================] - 36s 320ms/step - loss: 0.6885 - accuracy: 0.5429 - val_loss: 0.7012 - val_accuracy: 0.4472\n",
            "Epoch 11/20\n",
            "111/111 [==============================] - 36s 321ms/step - loss: 0.6879 - accuracy: 0.5428 - val_loss: 0.7057 - val_accuracy: 0.4472\n",
            "Epoch 12/20\n",
            "111/111 [==============================] - 36s 323ms/step - loss: 0.6883 - accuracy: 0.5429 - val_loss: 0.6994 - val_accuracy: 0.4472\n",
            "Epoch 13/20\n",
            "111/111 [==============================] - 36s 320ms/step - loss: 0.6881 - accuracy: 0.5428 - val_loss: 0.7071 - val_accuracy: 0.4472\n",
            "Epoch 14/20\n",
            "111/111 [==============================] - 36s 321ms/step - loss: 0.6901 - accuracy: 0.5428 - val_loss: 0.7033 - val_accuracy: 0.4472\n",
            "Epoch 15/20\n",
            "111/111 [==============================] - 36s 320ms/step - loss: 0.6897 - accuracy: 0.5438 - val_loss: 0.6967 - val_accuracy: 0.4878\n",
            "Epoch 16/20\n",
            "111/111 [==============================] - 36s 326ms/step - loss: 0.6908 - accuracy: 0.5452 - val_loss: 0.7091 - val_accuracy: 0.4350\n",
            "Epoch 17/20\n",
            "111/111 [==============================] - 36s 319ms/step - loss: 0.6911 - accuracy: 0.5429 - val_loss: 0.7040 - val_accuracy: 0.4472\n",
            "Epoch 18/20\n",
            "111/111 [==============================] - 36s 321ms/step - loss: 0.6896 - accuracy: 0.5428 - val_loss: 0.7042 - val_accuracy: 0.4472\n",
            "Epoch 19/20\n",
            "111/111 [==============================] - 36s 323ms/step - loss: 0.6876 - accuracy: 0.5429 - val_loss: 0.7037 - val_accuracy: 0.4472\n",
            "Epoch 20/20\n",
            "111/111 [==============================] - 36s 319ms/step - loss: 0.6877 - accuracy: 0.5431 - val_loss: 0.7029 - val_accuracy: 0.4472\n"
          ]
        }
      ]
    },
    {
      "cell_type": "code",
      "source": [
        "# plot loss and accuracy history\n",
        "plt.figure()\n",
        "plt.plot(history_main.history['accuracy'])\n",
        "plt.plot(history_main.history['val_accuracy'])\n",
        "plt.title('Accuracy')\n",
        "plt.ylabel('accuracy')\n",
        "plt.xlabel('epoch')\n",
        "plt.legend(['train', 'validation'])\n",
        "plt.savefig(MODEL_DIR + '/model_accuracy2.png')\n",
        "plt.figure()\n",
        "plt.plot(history_main.history['loss'])\n",
        "plt.plot(history_main.history['val_loss'])\n",
        "plt.title('Loss')\n",
        "plt.ylabel('loss')\n",
        "plt.xlabel('epoch')\n",
        "plt.legend(['train', 'validation'])\n",
        "#plt.savefig(MODEL_DIR + '/model_loss2.png')\n",
        "\n",
        "plt.show()"
      ],
      "metadata": {
        "colab": {
          "base_uri": "https://localhost:8080/",
          "height": 573
        },
        "id": "8fDfiTyKprN4",
        "outputId": "aa0e56ee-a27e-414a-aaef-84850593534c"
      },
      "execution_count": null,
      "outputs": [
        {
          "output_type": "display_data",
          "data": {
            "image/png": "[encoded data removed]",
            "text/plain": [
              "<Figure size 432x288 with 1 Axes>"
            ]
          },
          "metadata": {
            "needs_background": "light"
          }
        },
        {
          "output_type": "display_data",
          "data": {
            "image/png": "[encoded data removed]",
            "text/plain": [
              "<Figure size 432x288 with 1 Axes>"
            ]
          },
          "metadata": {
            "needs_background": "light"
          }
        }
      ]
    },
    {
      "cell_type": "markdown",
      "source": [
        "resnet"
      ],
      "metadata": {
        "id": "z6FrU93O5sxZ"
      }
    },
    {
      "cell_type": "code",
      "source": [
        "from tensorflow.keras.applications import ResNet50\n",
        "\n",
        "input_ = tf.keras.Input(shape=(224, 224, 1))\n",
        "\n",
        "\n",
        "img_conc=tf.keras.layers.Concatenate()([input_,input_,input_])\n",
        "\n",
        "\n",
        "# Initialize the Pretrained Model\n",
        "feature_extractor = ResNet50(weights='imagenet', \n",
        "                             input_tensor=img_conc,\n",
        "                             include_top=False)\n",
        "\n",
        "# Set this parameter to make sure it's not being trained\n",
        "feature_extractor.trainable = False\n",
        "\n",
        "# Set the input layer\n",
        "\n",
        "\n",
        "\n",
        "x = Conv2D(32,(3,3),activation='relu' ,padding='same')(input_)\n",
        "x = feature_extractor(input_, training=False)\n",
        "# Set the feature extractor layer\n",
        "\n",
        "\n",
        "# Set the pooling layer\n",
        "x = tf.keras.layers.GlobalAveragePooling2D()(x)\n",
        "\n",
        "# Set the final layer with sigmoid activation function\n",
        "output_ = tf.keras.layers.Dense(2, activation='sigmoid')(x)\n",
        "\n",
        "# Create the new model object\n",
        "model = tf.keras.Model(input_, output_)\n",
        "\n",
        "# Compile it\n",
        "model.compile(optimizer='adam',\n",
        "             loss='binary_crossentropy',\n",
        "             metrics=['accuracy'])\n",
        "\n",
        "# Print The Summary of The Model\n",
        "model.summary()"
      ],
      "metadata": {
        "colab": {
          "base_uri": "https://localhost:8080/"
        },
        "id": "oP2YHr0M8bHO",
        "outputId": "1443ed22-960b-4966-94f9-66e70a38de9b"
      },
      "execution_count": null,
      "outputs": [
        {
          "output_type": "stream",
          "name": "stdout",
          "text": [
            "Model: \"model_2\"\n",
            "_________________________________________________________________\n",
            " Layer (type)                Output Shape              Param #   \n",
            "=================================================================\n",
            " input_10 (InputLayer)       [(None, 224, 224, 1)]     0         \n",
            "                                                                 \n",
            " resnet50 (Functional)       (None, 7, 7, 2048)        23587712  \n",
            "                                                                 \n",
            " global_average_pooling2d_2   (None, 2048)             0         \n",
            " (GlobalAveragePooling2D)                                        \n",
            "                                                                 \n",
            " dense_2 (Dense)             (None, 2)                 4098      \n",
            "                                                                 \n",
            "=================================================================\n",
            "Total params: 23,591,810\n",
            "Trainable params: 4,098\n",
            "Non-trainable params: 23,587,712\n",
            "_________________________________________________________________\n"
          ]
        }
      ]
    },
    {
      "cell_type": "code",
      "source": [
        "model.compile(optimizer=tf.optimizers.Adam(), \n",
        "              loss='binary_crossentropy',\n",
        "              metrics=['accuracy'])\n",
        "\n",
        "\n",
        "\n",
        "\n",
        "filepath = \"modelCNN25thDec.h5\"\n",
        "#checkpoint = ModelCheckpoint(filepath, monitor='val_accuracy', verbose=1, \n",
        "#                            save_best_only=True, mode='max')\n",
        "\n",
        "#reduce_lr = ReduceLROnPlateau(monitor='val_accuracy', factor=0.5, patience=2, \n",
        "#                                   verbose=1, mode='max', min_lr=0.00001)\n",
        "                              \n",
        "                              \n",
        "#callbacks_list = [checkpoint, reduce_lr]\n",
        "\n",
        "\n",
        "history_main_tf = model.fit(\n",
        "                    data_aug.flow_from_directory(test_dir,target_size=(224,224), batch_size=BATCH_SIZE, shuffle=True,\n",
        "                         color_mode='grayscale'),\n",
        "                    epochs = 20, \n",
        "                    validation_data=data_aug.flow_from_directory(val_dir,target_size=(224,224), batch_size=BATCH_SIZE, shuffle=True,\n",
        "                         color_mode='grayscale')#,callbacks=callbacks_list\n",
        "                    )\n"
      ],
      "metadata": {
        "colab": {
          "base_uri": "https://localhost:8080/"
        },
        "id": "BPlXKoQa6HCx",
        "outputId": "5520cd78-36a0-41aa-db80-943e16e02924"
      },
      "execution_count": null,
      "outputs": [
        {
          "output_type": "stream",
          "name": "stdout",
          "text": [
            "Found 7067 images belonging to 2 classes.\n",
            "Found 246 images belonging to 2 classes.\n",
            "Epoch 1/20\n",
            "111/111 [==============================] - 1048s 9s/step - loss: 0.6928 - accuracy: 0.5330 - val_loss: 0.6953 - val_accuracy: 0.4797\n",
            "Epoch 2/20\n",
            "111/111 [==============================] - 33s 298ms/step - loss: 0.6897 - accuracy: 0.5407 - val_loss: 0.6980 - val_accuracy: 0.4553\n",
            "Epoch 3/20\n",
            "111/111 [==============================] - 33s 298ms/step - loss: 0.6901 - accuracy: 0.5410 - val_loss: 0.7202 - val_accuracy: 0.4390\n",
            "Epoch 4/20\n",
            "111/111 [==============================] - 33s 297ms/step - loss: 0.6905 - accuracy: 0.5356 - val_loss: 0.7099 - val_accuracy: 0.4390\n",
            "Epoch 5/20\n",
            "111/111 [==============================] - 33s 296ms/step - loss: 0.6905 - accuracy: 0.5397 - val_loss: 0.6903 - val_accuracy: 0.5650\n",
            "Epoch 6/20\n",
            "111/111 [==============================] - 33s 298ms/step - loss: 0.6908 - accuracy: 0.5299 - val_loss: 0.6946 - val_accuracy: 0.4919\n",
            "Epoch 7/20\n",
            "111/111 [==============================] - 33s 297ms/step - loss: 0.6890 - accuracy: 0.5418 - val_loss: 0.7023 - val_accuracy: 0.4431\n",
            "Epoch 8/20\n",
            "111/111 [==============================] - 33s 300ms/step - loss: 0.6882 - accuracy: 0.5462 - val_loss: 0.7230 - val_accuracy: 0.4431\n",
            "Epoch 9/20\n",
            "111/111 [==============================] - 33s 298ms/step - loss: 0.6881 - accuracy: 0.5480 - val_loss: 0.7092 - val_accuracy: 0.4553\n",
            "Epoch 10/20\n",
            "111/111 [==============================] - 33s 299ms/step - loss: 0.6896 - accuracy: 0.5424 - val_loss: 0.7096 - val_accuracy: 0.4553\n",
            "Epoch 11/20\n",
            "111/111 [==============================] - 33s 297ms/step - loss: 0.6871 - accuracy: 0.5510 - val_loss: 0.7053 - val_accuracy: 0.4472\n",
            "Epoch 12/20\n",
            "111/111 [==============================] - 33s 297ms/step - loss: 0.6887 - accuracy: 0.5428 - val_loss: 0.6941 - val_accuracy: 0.5000\n",
            "Epoch 13/20\n",
            "111/111 [==============================] - 33s 297ms/step - loss: 0.6911 - accuracy: 0.5379 - val_loss: 0.6903 - val_accuracy: 0.5081\n",
            "Epoch 14/20\n",
            "111/111 [==============================] - 33s 298ms/step - loss: 0.6870 - accuracy: 0.5517 - val_loss: 0.7695 - val_accuracy: 0.4472\n",
            "Epoch 15/20\n",
            "111/111 [==============================] - 33s 296ms/step - loss: 0.6883 - accuracy: 0.5441 - val_loss: 0.7172 - val_accuracy: 0.4431\n",
            "Epoch 16/20\n",
            "111/111 [==============================] - 33s 299ms/step - loss: 0.6892 - accuracy: 0.5434 - val_loss: 0.7155 - val_accuracy: 0.4390\n",
            "Epoch 17/20\n",
            "111/111 [==============================] - 33s 298ms/step - loss: 0.6867 - accuracy: 0.5492 - val_loss: 0.6872 - val_accuracy: 0.5407\n",
            "Epoch 18/20\n",
            "111/111 [==============================] - 33s 297ms/step - loss: 0.6907 - accuracy: 0.5367 - val_loss: 0.7086 - val_accuracy: 0.4472\n",
            "Epoch 19/20\n",
            "111/111 [==============================] - 33s 298ms/step - loss: 0.6881 - accuracy: 0.5493 - val_loss: 0.7467 - val_accuracy: 0.4431\n",
            "Epoch 20/20\n",
            "111/111 [==============================] - 33s 296ms/step - loss: 0.6870 - accuracy: 0.5480 - val_loss: 0.7080 - val_accuracy: 0.4553\n"
          ]
        }
      ]
    },
    {
      "cell_type": "code",
      "source": [
        ""
      ],
      "metadata": {
        "id": "XmvP4G9gBu-w"
      },
      "execution_count": null,
      "outputs": []
    }
  ]
}